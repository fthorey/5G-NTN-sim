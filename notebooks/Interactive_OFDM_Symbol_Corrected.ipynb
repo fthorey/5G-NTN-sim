{
 "cells": [
  {
   "cell_type": "markdown",
   "id": "411c2ef2",
   "metadata": {},
   "source": [
    "# Interactive OFDM Symbol Builder\n",
    "This notebook allows you to explore how OFDM symbols are generated from bitstreams.\n",
    "You can adjust parameters like subcarrier spacing, modulation type, and simulate MIMO and multiple OFDM symbols."
   ]
  },
  {
   "cell_type": "code",
   "execution_count": 1,
   "id": "1beb3d83",
   "metadata": {},
   "outputs": [
    {
     "data": {
      "application/vnd.jupyter.widget-view+json": {
       "model_id": "b23d68449ea74ce8b83ba63c59b00949",
       "version_major": 2,
       "version_minor": 0
      },
      "text/plain": [
       "interactive(children=(IntSlider(value=48, description='num_bits', max=256, min=24, step=4), IntSlider(value=64…"
      ]
     },
     "metadata": {},
     "output_type": "display_data"
    },
    {
     "data": {
      "text/plain": [
       "<function __main__.ofdm_symbol_builder(num_bits=48, fft_size=64, cp_length=16, mod_type='QPSK', num_symbols=1, mimo=False)>"
      ]
     },
     "execution_count": 1,
     "metadata": {},
     "output_type": "execute_result"
    }
   ],
   "source": [
    "import numpy as np\n",
    "import matplotlib.pyplot as plt\n",
    "from ipywidgets import interact, IntSlider, Dropdown, Checkbox\n",
    "from numpy.fft import ifft\n",
    "\n",
    "def modulate(bits, mod_type='QPSK'):\n",
    "    if mod_type == 'BPSK':\n",
    "        return (1 - 2*np.array(bits)) + 0j\n",
    "    elif mod_type == 'QPSK':\n",
    "        symbols = []\n",
    "        for i in range(0, len(bits), 2):\n",
    "            b0, b1 = bits[i], bits[i+1]\n",
    "            symbol = (1 - 2*b0) + 1j*(1 - 2*b1)\n",
    "            symbols.append(symbol / np.sqrt(2))\n",
    "        return np.array(symbols)\n",
    "    elif mod_type == '16QAM':\n",
    "        mapping = {\n",
    "            (0,0,0,0): -3-3j, (0,0,0,1): -3-1j, (0,0,1,0): -3+3j, (0,0,1,1): -3+1j,\n",
    "            (0,1,0,0): -1-3j, (0,1,0,1): -1-1j, (0,1,1,0): -1+3j, (0,1,1,1): -1+1j,\n",
    "            (1,0,0,0):  3-3j, (1,0,0,1):  3-1j, (1,0,1,0):  3+3j, (1,0,1,1):  3+1j,\n",
    "            (1,1,0,0):  1-3j, (1,1,0,1):  1-1j, (1,1,1,0):  1+3j, (1,1,1,1):  1+1j,\n",
    "        }\n",
    "        symbols = []\n",
    "        for i in range(0, len(bits), 4):\n",
    "            group = tuple(bits[i:i+4])\n",
    "            symbol = mapping.get(group, 0)\n",
    "            symbols.append(symbol / np.sqrt(10))\n",
    "        return np.array(symbols)\n",
    "    else:\n",
    "        raise ValueError(\"Unsupported modulation type\")\n",
    "\n",
    "def ofdm_symbol_builder(num_bits=48, fft_size=64, cp_length=16, mod_type='QPSK', num_symbols=1, mimo=False):\n",
    "    bits = np.random.randint(0, 2, num_bits)\n",
    "    symbols = modulate(bits, mod_type)\n",
    "    \n",
    "    tx_stream = []\n",
    "    for _ in range(num_symbols):\n",
    "        grid = np.zeros(fft_size, dtype=complex)\n",
    "        start = fft_size//2 - len(symbols)//2\n",
    "        max_symbols = min(len(symbols), fft_size)\n",
    "        grid[start:start + max_symbols] = symbols[:max_symbols]\n",
    "        ofdm = ifft(grid)\n",
    "        with_cp = np.concatenate([ofdm[-cp_length:], ofdm])\n",
    "        tx_stream.extend(with_cp)\n",
    "    \n",
    "    if mimo:\n",
    "        tx_stream = np.stack([tx_stream, tx_stream + np.random.normal(0, 0.05, len(tx_stream))])\n",
    "    \n",
    "    fig, axs = plt.subplots(4, 1, figsize=(10, 8))\n",
    "    axs[0].stem(bits[:64])\n",
    "    axs[0].set_title(\"Input Bits (first 64 shown)\")\n",
    "    axs[1].plot(np.real(symbols), np.imag(symbols), 'o')\n",
    "    axs[1].set_title(\"Modulated Symbols\")\n",
    "    axs[1].set_xlabel(\"I\")\n",
    "    axs[1].set_ylabel(\"Q\")\n",
    "    axs[1].grid(True)\n",
    "    axs[2].plot(np.abs(grid))\n",
    "    axs[2].set_title(\"Frequency-Domain Grid Magnitude\")\n",
    "    if mimo:\n",
    "        axs[3].plot(np.real(tx_stream[0]), label='Antenna 1')\n",
    "        axs[3].plot(np.real(tx_stream[1]), label='Antenna 2')\n",
    "        axs[3].legend()\n",
    "    else:\n",
    "        axs[3].plot(np.real(tx_stream))\n",
    "    axs[3].set_title(\"Time-Domain OFDM Symbol(s) with Cyclic Prefix\")\n",
    "    axs[3].set_xlabel(\"Sample Index\")\n",
    "    axs[3].set_ylabel(\"Amplitude\")\n",
    "    plt.tight_layout()\n",
    "    plt.show()\n",
    "\n",
    "interact(\n",
    "    ofdm_symbol_builder,\n",
    "    num_bits=IntSlider(48, 24, 256, step=4),\n",
    "    fft_size=IntSlider(64, 32, 256, step=32),\n",
    "    cp_length=IntSlider(16, 0, 64, step=4),\n",
    "    mod_type=Dropdown(options=['BPSK', 'QPSK', '16QAM'], value='QPSK', description='Modulation'),\n",
    "    num_symbols=IntSlider(1, 1, 10),\n",
    "    mimo=Checkbox(value=False, description='MIMO (2x1)')\n",
    ")"
   ]
  }
 ],
 "metadata": {
  "kernelspec": {
   "display_name": "Python 3",
   "language": "python",
   "name": "python3"
  },
  "language_info": {
   "codemirror_mode": {
    "name": "ipython",
    "version": 3
   },
   "file_extension": ".py",
   "mimetype": "text/x-python",
   "name": "python",
   "nbconvert_exporter": "python",
   "pygments_lexer": "ipython3",
   "version": "3.13.3"
  }
 },
 "nbformat": 4,
 "nbformat_minor": 5
}
