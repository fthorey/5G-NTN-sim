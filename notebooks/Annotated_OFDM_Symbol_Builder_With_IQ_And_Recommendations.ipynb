{
 "cells": [
  {
   "cell_type": "markdown",
   "id": "7853bb52",
   "metadata": {},
   "source": [
    "# OFDM Symbol Builder (Static Version)\n",
    "\n",
    "This notebook demonstrates how Orthogonal Frequency Division Multiplexing (OFDM) symbols are generated at the PHY layer.\n",
    "We walk through the steps of:\n",
    "1. Generating random user data (bits)\n",
    "2. Mapping those bits to modulation symbols (BPSK, QPSK, 16QAM)\n",
    "3. Allocating symbols into an OFDM subcarrier grid\n",
    "4. Applying the IFFT to create time-domain OFDM symbols\n",
    "5. Adding Cyclic Prefix (CP)\n",
    "6. (Optional) Simulating MIMO with two antennas\n",
    "7. Plotting all major stages\n"
   ]
  },
  {
   "cell_type": "markdown",
   "id": "a125da67",
   "metadata": {},
   "source": [
    "## 1. Set Simulation Parameters"
   ]
  },
  {
   "cell_type": "code",
   "execution_count": null,
   "id": "bb95b66b",
   "metadata": {},
   "outputs": [],
   "source": [
    "# You can adjust these parameters before re-running the notebook\n",
    "num_bits = 64  # Number of random bits to transmit\n",
    "fft_size = 64  # Number of subcarriers (FFT points)\n",
    "cp_length = 16  # Cyclic prefix length (samples)\n",
    "mod_type = 'QPSK'  # Choose from: 'BPSK', 'QPSK', '16QAM'\n",
    "num_symbols = 2  # How many OFDM symbols to generate\n",
    "mimo = False  # If True, generate MIMO (2 streams)"
   ]
  },
  {
   "cell_type": "markdown",
   "id": "8d463dae",
   "metadata": {},
   "source": [
    "## 2. Import Libraries and Setup Plotting"
   ]
  },
  {
   "cell_type": "code",
   "execution_count": null,
   "id": "43451de4",
   "metadata": {},
   "outputs": [],
   "source": [
    "%matplotlib inline\n",
    "import numpy as np\n",
    "import matplotlib.pyplot as plt\n",
    "from numpy.fft import ifft"
   ]
  },
  {
   "cell_type": "markdown",
   "id": "74b6cab8",
   "metadata": {},
   "source": [
    "## 3. Bit-to-Symbol Mapping (Modulation)"
   ]
  },
  {
   "cell_type": "code",
   "execution_count": null,
   "id": "abe20634",
   "metadata": {},
   "outputs": [],
   "source": [
    "def modulate(bits, mod_type='QPSK'):\n",
    "    \"\"\"Map bits to complex symbols depending on modulation type.\"\"\"\n",
    "    if mod_type == 'BPSK':\n",
    "        return (1 - 2*np.array(bits)) + 0j\n",
    "    elif mod_type == 'QPSK':\n",
    "        symbols = []\n",
    "        for i in range(0, len(bits), 2):\n",
    "            b0, b1 = bits[i], bits[i+1]\n",
    "            symbol = (1 - 2*b0) + 1j*(1 - 2*b1)\n",
    "            symbols.append(symbol / np.sqrt(2))  # Normalized energy\n",
    "        return np.array(symbols)\n",
    "    elif mod_type == '16QAM':\n",
    "        mapping = {\n",
    "            (0,0,0,0): -3-3j, (0,0,0,1): -3-1j, (0,0,1,0): -3+3j, (0,0,1,1): -3+1j,\n",
    "            (0,1,0,0): -1-3j, (0,1,0,1): -1-1j, (0,1,1,0): -1+3j, (0,1,1,1): -1+1j,\n",
    "            (1,0,0,0):  3-3j, (1,0,0,1):  3-1j, (1,0,1,0):  3+3j, (1,0,1,1):  3+1j,\n",
    "            (1,1,0,0):  1-3j, (1,1,0,1):  1-1j, (1,1,1,0):  1+3j, (1,1,1,1):  1+1j,\n",
    "        }\n",
    "        symbols = []\n",
    "        for i in range(0, len(bits), 4):\n",
    "            group = tuple(bits[i:i+4])\n",
    "            symbol = mapping.get(group, 0)\n",
    "            symbols.append(symbol / np.sqrt(10))  # Normalize avg power\n",
    "        return np.array(symbols)\n",
    "    else:\n",
    "        raise ValueError(\"Unsupported modulation type\")"
   ]
  },
  {
   "cell_type": "markdown",
   "id": "c650f646",
   "metadata": {},
   "source": [
    "## 4. OFDM Symbol Generation and Visualization"
   ]
  },
  {
   "cell_type": "code",
   "execution_count": null,
   "id": "70a3a372",
   "metadata": {},
   "outputs": [],
   "source": [
    "# Step-by-step OFDM generation and visualization\n",
    "\n",
    "# Step 1: Generate random bits\n",
    "bits = np.random.randint(0, 2, num_bits)\n",
    "\n",
    "# Step 2: Map bits to modulation symbols\n",
    "symbols = modulate(bits, mod_type)\n",
    "\n",
    "# Step 3: Allocate symbols to subcarriers\n",
    "max_symbols = min(len(symbols), fft_size)\n",
    "symbols = symbols[:max_symbols]\n",
    "\n",
    "# Step 4: Apply IFFT and add cyclic prefix\n",
    "tx_stream = []\n",
    "for _ in range(num_symbols):\n",
    "    grid = np.zeros(fft_size, dtype=complex)\n",
    "    start = fft_size // 2 - max_symbols // 2\n",
    "    grid[start:start + max_symbols] = symbols\n",
    "    ofdm = ifft(grid)\n",
    "    with_cp = np.concatenate([ofdm[-cp_length:], ofdm])\n",
    "    tx_stream.extend(with_cp)\n",
    "\n",
    "# Step 5 (Optional): Simulate MIMO with 2 antennas\n",
    "if mimo:\n",
    "    tx_stream = np.stack([\n",
    "        tx_stream,\n",
    "        tx_stream + np.random.normal(0, 0.05, len(tx_stream))  # Add slight variation\n",
    "    ])"
   ]
  },
  {
   "cell_type": "markdown",
   "id": "3463fceb",
   "metadata": {},
   "source": [
    "## 5. Visualize Each Stage"
   ]
  },
  {
   "cell_type": "code",
   "execution_count": null,
   "id": "e3fdc0cf",
   "metadata": {},
   "outputs": [],
   "source": [
    "fig, axs = plt.subplots(4, 1, figsize=(12, 10))\n",
    "\n",
    "# Plot raw bits\n",
    "axs[0].stem(bits[:64])\n",
    "axs[0].set_title(\"Input Bits (first 64 shown)\")\n",
    "axs[0].set_ylabel(\"Bit Value\")\n",
    "\n",
    "# Plot I/Q constellation\n",
    "axs[1].plot(np.real(symbols), np.imag(symbols), 'o')\n",
    "axs[1].set_title(\"Modulated Symbols (Constellation)\")\n",
    "axs[1].set_xlabel(\"In-phase (I)\")\n",
    "axs[1].set_ylabel(\"Quadrature (Q)\")\n",
    "axs[1].grid(True)\n",
    "\n",
    "# Plot subcarrier magnitude\n",
    "axs[2].plot(np.abs(grid))\n",
    "axs[2].set_title(\"OFDM Subcarrier Magnitude (Frequency Domain)\")\n",
    "\n",
    "# Plot time-domain OFDM symbol(s)\n",
    "if mimo:\n",
    "    axs[3].plot(np.real(tx_stream[0]), label='Antenna 1')\n",
    "    axs[3].plot(np.real(tx_stream[1]), label='Antenna 2')\n",
    "    axs[3].legend()\n",
    "else:\n",
    "    axs[3].plot(np.real(tx_stream))\n",
    "axs[3].set_title(\"OFDM Symbol(s) in Time Domain with Cyclic Prefix\")\n",
    "axs[3].set_xlabel(\"Sample Index\")\n",
    "axs[3].set_ylabel(\"Amplitude\")\n",
    "\n",
    "plt.tight_layout()\n",
    "plt.show()"
   ]
  },
  {
   "cell_type": "markdown",
   "id": "ce1fc037",
   "metadata": {},
   "source": [
    "## 6. Inspect Raw I/Q Samples"
   ]
  },
  {
   "cell_type": "code",
   "execution_count": null,
   "id": "6deb16c4",
   "metadata": {},
   "outputs": [],
   "source": [
    "# Display first few raw time-domain I/Q samples (after IFFT + CP)\n",
    "if mimo:\n",
    "    print(\"Antenna 1 (first 10 samples):\")\n",
    "    print(tx_stream[0][:10])\n",
    "    print(\"\\nAntenna 2 (first 10 samples):\")\n",
    "    print(tx_stream[1][:10])\n",
    "else:\n",
    "    print(\"I/Q samples (first 10):\")\n",
    "    print(tx_stream[:10])"
   ]
  },
  {
   "cell_type": "markdown",
   "id": "e8d9434c",
   "metadata": {},
   "source": [
    "## 7. Recommendations & Further Exploration"
   ]
  },
  {
   "cell_type": "markdown",
   "id": "6e6dbce1",
   "metadata": {},
   "source": [
    "**Here are some useful enhancements or follow-up steps you can explore:**\n",
    "\n",
    "- 🔄 Add a receiver chain (remove CP, apply FFT, demodulate symbols)\n",
    "- 📡 Simulate a realistic channel (AWGN, multipath, Doppler)\n",
    "- 📈 Plot Bit Error Rate (BER) across different modulations and SNRs\n",
    "- 🧪 Compare the effect of different cyclic prefix lengths\n",
    "- 🛰️ Add support for advanced modulation (64QAM, 256QAM)\n",
    "- 🧰 Visualize time-frequency allocation (e.g. resource grid)\n",
    "- 🧭 Implement dynamic allocation of PRBs and scheduling"
   ]
  }
 ],
 "metadata": {},
 "nbformat": 4,
 "nbformat_minor": 5
}
