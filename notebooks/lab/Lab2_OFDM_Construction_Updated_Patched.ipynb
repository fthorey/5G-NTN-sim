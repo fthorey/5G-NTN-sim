{
 "cells": [
  {
   "cell_type": "markdown",
   "id": "80fb8036",
   "metadata": {},
   "source": [
    "# Lab 2: OFDM Construction"
   ]
  },
  {
   "cell_type": "markdown",
   "id": "5cc3b839",
   "metadata": {},
   "source": [
    "### 🎛️ Modulation Scheme Selector\n",
    "You can now select from multiple digital modulation schemes below:"
   ]
  },
  {
   "cell_type": "code",
   "execution_count": 1,
   "id": "e8da4b34",
   "metadata": {},
   "outputs": [
    {
     "data": {
      "application/vnd.jupyter.widget-view+json": {
       "model_id": "a2c9048c56f64ef4a7bfbb3ab1309982",
       "version_major": 2,
       "version_minor": 0
      },
      "text/plain": [
       "interactive(children=(Dropdown(description='mod_type', index=1, options=('BPSK', 'QPSK', '16QAM', '64QAM'), va…"
      ]
     },
     "metadata": {},
     "output_type": "display_data"
    }
   ],
   "source": [
    "\n",
    "import numpy as np\n",
    "import matplotlib.pyplot as plt\n",
    "from ipywidgets import interact, Dropdown\n",
    "\n",
    "def generate_constellation(mod_type):\n",
    "    if mod_type == 'BPSK':\n",
    "        return np.array([1, -1])\n",
    "    elif mod_type == 'QPSK':\n",
    "        return np.array([1+1j, -1+1j, -1-1j, 1-1j]) / np.sqrt(2)\n",
    "    elif mod_type == '16QAM':\n",
    "        re = np.array([-3, -1, 1, 3])\n",
    "        im = np.array([-3, -1, 1, 3])\n",
    "        return (re[:, None] + 1j * im[None, :]).flatten() / np.sqrt(10)\n",
    "    elif mod_type == '64QAM':\n",
    "        levels = np.array([-7, -5, -3, -1, 1, 3, 5, 7])\n",
    "        return (levels[:, None] + 1j * levels[None, :]).flatten() / np.sqrt(42)\n",
    "    else:\n",
    "        raise ValueError(\"Unsupported modulation type\")\n",
    "\n",
    "def plot_constellation(mod_type):\n",
    "    constellation = generate_constellation(mod_type)\n",
    "    plt.figure(figsize=(5, 5))\n",
    "    plt.plot(np.real(constellation), np.imag(constellation), 'o')\n",
    "    plt.grid(True)\n",
    "    plt.title(f\"{mod_type} Constellation Diagram\")\n",
    "    plt.xlabel(\"In-phase (I)\")\n",
    "    plt.ylabel(\"Quadrature (Q)\")\n",
    "    plt.axis('equal')\n",
    "    plt.show()\n",
    "\n",
    "interact(plot_constellation, mod_type=Dropdown(options=['BPSK', 'QPSK', '16QAM', '64QAM'], value='QPSK'));\n"
   ]
  },
  {
   "cell_type": "markdown",
   "id": "a17e4447",
   "metadata": {},
   "source": [
    "## Introduction"
   ]
  },
  {
   "cell_type": "markdown",
   "id": "9b89009b",
   "metadata": {},
   "source": [
    "In this lab, you'll learn how to build an OFDM symbol using IFFT and Cyclic Prefix.\n",
    "\n",
    "- Map QAM symbols to subcarriers\n",
    "- Apply IFFT\n",
    "- Add cyclic prefix\n",
    "- Plot time-domain waveform"
   ]
  },
  {
   "cell_type": "markdown",
   "id": "fe2e5282",
   "metadata": {},
   "source": [
    "## 1. Parameters"
   ]
  },
  {
   "cell_type": "code",
   "execution_count": 2,
   "id": "99c4eb8a",
   "metadata": {},
   "outputs": [],
   "source": [
    "num_subcarriers = 64\n",
    "cp_length = 16\n",
    "mod_type = 'QPSK'\n",
    "num_symbols = 1"
   ]
  },
  {
   "cell_type": "markdown",
   "id": "8505808e",
   "metadata": {},
   "source": [
    "## 2. Bit and Symbol Generation"
   ]
  },
  {
   "cell_type": "code",
   "execution_count": 3,
   "id": "d4600796",
   "metadata": {},
   "outputs": [],
   "source": [
    "import numpy as np\n",
    "from numpy.fft import ifft\n",
    "import matplotlib.pyplot as plt\n",
    "\n",
    "def generate_bits(mod_type, N):\n",
    "    bits = np.random.randint(0, 2, N)\n",
    "    return bits\n",
    "\n",
    "def qam_modulate(bits, mod_type):\n",
    "    if mod_type == 'QPSK':\n",
    "        return (1 - 2*bits[0::2] + 1j*(1 - 2*bits[1::2])) / np.sqrt(2)\n",
    "    raise NotImplementedError"
   ]
  },
  {
   "cell_type": "markdown",
   "id": "d451ac9e",
   "metadata": {},
   "source": [
    "## 3. OFDM Symbol Creation"
   ]
  },
  {
   "cell_type": "code",
   "execution_count": 4,
   "id": "1c15e750",
   "metadata": {},
   "outputs": [
    {
     "ename": "NameError",
     "evalue": "name 'symbols' is not defined",
     "output_type": "error",
     "traceback": [
      "\u001b[31m---------------------------------------------------------------------------\u001b[39m",
      "\u001b[31mNameError\u001b[39m                                 Traceback (most recent call last)",
      "\u001b[36mCell\u001b[39m\u001b[36m \u001b[39m\u001b[32mIn[4]\u001b[39m\u001b[32m, line 3\u001b[39m\n\u001b[32m      1\u001b[39m \u001b[38;5;66;03m# Robust OFDM symbol mapping\u001b[39;00m\n\u001b[32m      2\u001b[39m ofdm_grid = np.zeros(num_subcarriers, dtype=\u001b[38;5;28mcomplex\u001b[39m)\n\u001b[32m----> \u001b[39m\u001b[32m3\u001b[39m symbols_to_map = \u001b[38;5;28mmin\u001b[39m(\u001b[38;5;28mlen\u001b[39m(\u001b[43msymbols\u001b[49m), num_subcarriers)\n\u001b[32m      4\u001b[39m \u001b[38;5;66;03m# Optionally skip DC (index 0) and map to rest\u001b[39;00m\n\u001b[32m      5\u001b[39m ofdm_grid[\u001b[32m1\u001b[39m:symbols_to_map+\u001b[32m1\u001b[39m] = symbols[:symbols_to_map]\n",
      "\u001b[31mNameError\u001b[39m: name 'symbols' is not defined"
     ]
    }
   ],
   "source": [
    "# Robust OFDM symbol mapping\n",
    "ofdm_grid = np.zeros(num_subcarriers, dtype=complex)\n",
    "symbols_to_map = min(len(symbols), num_subcarriers)\n",
    "# Optionally skip DC (index 0) and map to rest\n",
    "ofdm_grid[1:symbols_to_map+1] = symbols[:symbols_to_map]\n",
    "\n",
    "ofdm_time = ifft(ofdm_grid)\n",
    "cp = ofdm_time[-cp_length:]\n",
    "ofdm_symbol = np.concatenate([cp, ofdm_time])\n",
    "\n",
    "plt.figure(figsize=(10, 4))\n",
    "plt.plot(np.real(ofdm_symbol), label='Real Part')\n",
    "plt.plot(np.imag(ofdm_symbol), label='Imag Part')\n",
    "plt.title('OFDM Symbol (Time Domain)')\n",
    "plt.legend()\n",
    "plt.grid(True)\n",
    "plt.show()"
   ]
  },
  {
   "cell_type": "markdown",
   "id": "f0c3de01",
   "metadata": {},
   "source": [
    "## 4. Plot Time-Domain Signal"
   ]
  },
  {
   "cell_type": "code",
   "execution_count": null,
   "id": "44d9bf70",
   "metadata": {},
   "outputs": [],
   "source": [
    "plt.figure(figsize=(10,4))\n",
    "plt.plot(np.real(ofdm_tx))\n",
    "plt.title('OFDM Time-Domain Signal')\n",
    "plt.xlabel('Sample Index')\n",
    "plt.ylabel('Amplitude')\n",
    "plt.grid(True)\n",
    "plt.show()"
   ]
  }
 ],
 "metadata": {
  "kernelspec": {
   "display_name": "Python 3",
   "language": "python",
   "name": "python3"
  },
  "language_info": {
   "codemirror_mode": {
    "name": "ipython",
    "version": 3
   },
   "file_extension": ".py",
   "mimetype": "text/x-python",
   "name": "python",
   "nbconvert_exporter": "python",
   "pygments_lexer": "ipython3",
   "version": "3.13.3"
  }
 },
 "nbformat": 4,
 "nbformat_minor": 5
}
