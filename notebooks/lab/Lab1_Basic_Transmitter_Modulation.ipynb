{
 "cells": [
  {
   "cell_type": "markdown",
   "id": "b1fc3dda",
   "metadata": {},
   "source": [
    "# Lab 1: Basic Transmitter & Modulation Explorer\n",
    "Welcome to the first step of your digital communications lab! 🎓\n",
    "\n",
    "In this notebook, we'll simulate the very first part of a communications system: the **transmitter**.\n",
    "\n",
    "### You will learn:\n",
    "- How to generate digital bits\n",
    "- How to modulate those bits using BPSK, QPSK, and 16QAM\n",
    "- How to visualize modulated signals in the I/Q (constellation) plane\n",
    "- How to analyze symbol power and distribution\n"
   ]
  },
  {
   "cell_type": "markdown",
   "id": "61c308ca",
   "metadata": {},
   "source": [
    "## 1. Set Parameters"
   ]
  },
  {
   "cell_type": "code",
   "execution_count": 43,
   "id": "9676d674",
   "metadata": {},
   "outputs": [],
   "source": [
    "# User-defined parameters\n",
    "num_bits = 1024  # Number of bits to transmit\n",
    "mod_type = '16QAM'  # Choose: 'BPSK', 'QPSK', or '16QAM'"
   ]
  },
  {
   "cell_type": "markdown",
   "id": "d2c0b13c",
   "metadata": {},
   "source": [
    "## 2. Import Required Libraries"
   ]
  },
  {
   "cell_type": "code",
   "execution_count": 44,
   "id": "a1fb4224",
   "metadata": {},
   "outputs": [],
   "source": [
    "%matplotlib inline\n",
    "import numpy as np\n",
    "import matplotlib.pyplot as plt"
   ]
  },
  {
   "cell_type": "markdown",
   "id": "170e2290",
   "metadata": {},
   "source": [
    "## 3. Generate Random Bitstream"
   ]
  },
  {
   "cell_type": "code",
   "execution_count": 45,
   "id": "987c5ec4",
   "metadata": {},
   "outputs": [
    {
     "name": "stdout",
     "output_type": "stream",
     "text": [
      "First 32 bits: [0 0 1 1 1 1 0 0 0 0 1 1 1 0 0 1 1 0 1 0 0 1 0 1 0 1 1 1 1 1 0 0]\n"
     ]
    }
   ],
   "source": [
    "bits = np.random.randint(0, 2, num_bits)\n",
    "print(f\"First 32 bits: {bits[:32]}\")"
   ]
  },
  {
   "cell_type": "markdown",
   "id": "96fddfe6",
   "metadata": {},
   "source": [
    "## 4. Modulate the Bits"
   ]
  },
  {
   "cell_type": "code",
   "execution_count": 46,
   "id": "619bed4b",
   "metadata": {},
   "outputs": [],
   "source": [
    "def modulate(bits, mod_type='QPSK'):\n",
    "    if mod_type == 'BPSK':\n",
    "        return (1 - 2 * bits) + 0j\n",
    "    elif mod_type == 'QPSK':\n",
    "        symbols = []\n",
    "        for i in range(0, len(bits), 2):\n",
    "            b0, b1 = bits[i], bits[i+1]\n",
    "            symbol = (1 - 2*b0) + 1j*(1 - 2*b1)\n",
    "            symbols.append(symbol / np.sqrt(2))\n",
    "        return np.array(symbols)\n",
    "    elif mod_type == '16QAM':\n",
    "        mapping = {\n",
    "            (0,0,0,0): -3-3j, (0,0,0,1): -3-1j, (0,0,1,0): -3+3j, (0,0,1,1): -3+1j,\n",
    "            (0,1,0,0): -1-3j, (0,1,0,1): -1-1j, (0,1,1,0): -1+3j, (0,1,1,1): -1+1j,\n",
    "            (1,0,0,0):  3-3j, (1,0,0,1):  3-1j, (1,0,1,0):  3+3j, (1,0,1,1):  3+1j,\n",
    "            (1,1,0,0):  1-3j, (1,1,0,1):  1-1j, (1,1,1,0):  1+3j, (1,1,1,1):  1+1j,\n",
    "        }\n",
    "        symbols = []\n",
    "        for i in range(0, len(bits), 4):\n",
    "            group = tuple(bits[i:i+4])\n",
    "            symbol = mapping.get(group, 0)\n",
    "            symbols.append(symbol / np.sqrt(10))\n",
    "        return np.array(symbols)\n",
    "    else:\n",
    "        raise ValueError(\"Unsupported modulation type\")"
   ]
  },
  {
   "cell_type": "markdown",
   "id": "87260478",
   "metadata": {},
   "source": [
    "## 5. Apply Modulation to Bitstream"
   ]
  },
  {
   "cell_type": "code",
   "execution_count": 47,
   "id": "d8e30a92",
   "metadata": {},
   "outputs": [
    {
     "name": "stdout",
     "output_type": "stream",
     "text": [
      "First 8 symbols: [-0.9486833 +0.31622777j  0.31622777-0.9486833j  -0.9486833 +0.31622777j\n",
      "  0.9486833 -0.31622777j  0.9486833 +0.9486833j  -0.31622777-0.31622777j\n",
      " -0.31622777+0.31622777j  0.31622777-0.9486833j ]\n"
     ]
    }
   ],
   "source": [
    "symbols = modulate(bits, mod_type)\n",
    "print(f\"First 8 symbols: {symbols[:8]}\")"
   ]
  },
  {
   "cell_type": "markdown",
   "id": "65125ecb",
   "metadata": {},
   "source": [
    "## 6. Plot the I/Q Constellation Diagram"
   ]
  },
  {
   "cell_type": "code",
   "execution_count": 48,
   "id": "9ff710c2",
   "metadata": {},
   "outputs": [
    {
     "data": {
      "image/png": "[encoded data removed]",
      "text/plain": [
       "<Figure size 600x600 with 1 Axes>"
      ]
     },
     "metadata": {},
     "output_type": "display_data"
    }
   ],
   "source": [
    "plt.figure(figsize=(6, 6))\n",
    "plt.plot(np.real(symbols), np.imag(symbols), 'o')\n",
    "plt.title(f'{mod_type} Constellation')\n",
    "plt.xlabel('In-phase (I)')\n",
    "plt.ylabel('Quadrature (Q)')\n",
    "plt.grid(True)\n",
    "plt.axis('equal')\n",
    "plt.show()"
   ]
  },
  {
   "cell_type": "markdown",
   "id": "bcf48636",
   "metadata": {},
   "source": [
    "## 7. Analyze Symbol Power"
   ]
  },
  {
   "cell_type": "code",
   "execution_count": 50,
   "id": "d3a2f0c0",
   "metadata": {},
   "outputs": [
    {
     "name": "stdout",
     "output_type": "stream",
     "text": [
      "Average symbol power: 1.02\n"
     ]
    }
   ],
   "source": [
    "power = np.mean(np.abs(symbols)**2)\n",
    "print(f\"Average symbol power: {power:.2f}\")"
   ]
  },
  {
   "cell_type": "markdown",
   "id": "c11008b8",
   "metadata": {},
   "source": [
    "## 8. Summary\n",
    "- You’ve generated bits and modulated them using basic digital modulation schemes.\n",
    "- You visualized the I/Q symbols and calculated average power.\n",
    "\n",
    "**Next Lab:** You’ll map these symbols to subcarriers and construct OFDM waveforms using the IFFT.\n"
   ]
  }
 ],
 "metadata": {
  "kernelspec": {
   "display_name": "Python 3",
   "language": "python",
   "name": "python3"
  },
  "language_info": {
   "codemirror_mode": {
    "name": "ipython",
    "version": 3
   },
   "file_extension": ".py",
   "mimetype": "text/x-python",
   "name": "python",
   "nbconvert_exporter": "python",
   "pygments_lexer": "ipython3",
   "version": "3.13.3"
  }
 },
 "nbformat": 4,
 "nbformat_minor": 5
}
