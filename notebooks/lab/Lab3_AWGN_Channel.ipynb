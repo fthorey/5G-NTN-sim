{
 "cells": [
  {
   "cell_type": "markdown",
   "id": "f4d51fda",
   "metadata": {},
   "source": [
    "# Lab 3: AWGN Channel"
   ]
  },
  {
   "cell_type": "markdown",
   "id": "acc29731",
   "metadata": {},
   "source": [
    "## Introduction"
   ]
  },
  {
   "cell_type": "markdown",
   "id": "6bf26f60",
   "metadata": {},
   "source": [
    "This lab introduces the Additive White Gaussian Noise (AWGN) channel.\n",
    "\n",
    "- Add noise to OFDM waveform\n",
    "- Adjust SNR\n",
    "- Observe effect on constellation"
   ]
  },
  {
   "cell_type": "markdown",
   "id": "b258bd59",
   "metadata": {},
   "source": [
    "## 1. Add Noise to Signal"
   ]
  },
  {
   "cell_type": "code",
   "execution_count": null,
   "id": "b9adb437",
   "metadata": {},
   "outputs": [],
   "source": [
    "def add_awgn(signal, snr_db):\n",
    "    snr = 10**(snr_db/10)\n",
    "    power = np.mean(np.abs(signal)**2)\n",
    "    noise_power = power / snr\n",
    "    noise = np.sqrt(noise_power/2) * (np.random.randn(*signal.shape) + 1j*np.random.randn(*signal.shape))\n",
    "    return signal + noise\n",
    "\n",
    "snr_db = 20\n",
    "rx_signal = add_awgn(ofdm_tx, snr_db)"
   ]
  },
  {
   "cell_type": "markdown",
   "id": "f4d6c79c",
   "metadata": {},
   "source": [
    "## 2. Plot Received Signal"
   ]
  },
  {
   "cell_type": "code",
   "execution_count": null,
   "id": "4e31fceb",
   "metadata": {},
   "outputs": [],
   "source": [
    "plt.figure(figsize=(10,4))\n",
    "plt.plot(np.real(rx_signal))\n",
    "plt.title('Received Signal (Real Part)')\n",
    "plt.grid(True)\n",
    "plt.show()"
   ]
  }
 ],
 "metadata": {},
 "nbformat": 4,
 "nbformat_minor": 5
}
