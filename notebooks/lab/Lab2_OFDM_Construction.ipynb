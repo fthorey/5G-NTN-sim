{
 "cells": [
  {
   "cell_type": "markdown",
   "id": "80fb8036",
   "metadata": {},
   "source": [
    "# Lab 2: OFDM Construction"
   ]
  },
  {
   "cell_type": "markdown",
   "id": "a17e4447",
   "metadata": {},
   "source": [
    "## Introduction"
   ]
  },
  {
   "cell_type": "markdown",
   "id": "9b89009b",
   "metadata": {},
   "source": [
    "In this lab, you'll learn how to build an OFDM symbol using IFFT and Cyclic Prefix.\n",
    "\n",
    "- Map QAM symbols to subcarriers\n",
    "- Apply IFFT\n",
    "- Add cyclic prefix\n",
    "- Plot time-domain waveform"
   ]
  },
  {
   "cell_type": "markdown",
   "id": "fe2e5282",
   "metadata": {},
   "source": [
    "## 1. Parameters"
   ]
  },
  {
   "cell_type": "code",
   "execution_count": 1,
   "id": "99c4eb8a",
   "metadata": {},
   "outputs": [],
   "source": [
    "num_subcarriers = 64\n",
    "cp_length = 16\n",
    "mod_type = 'QPSK'\n",
    "num_symbols = 1"
   ]
  },
  {
   "cell_type": "markdown",
   "id": "8505808e",
   "metadata": {},
   "source": [
    "## 2. Bit and Symbol Generation"
   ]
  },
  {
   "cell_type": "code",
   "execution_count": 2,
   "id": "d4600796",
   "metadata": {},
   "outputs": [],
   "source": [
    "import numpy as np\n",
    "from numpy.fft import ifft\n",
    "import matplotlib.pyplot as plt\n",
    "\n",
    "def generate_bits(mod_type, N):\n",
    "    bits = np.random.randint(0, 2, N)\n",
    "    return bits\n",
    "\n",
    "def qam_modulate(bits, mod_type):\n",
    "    if mod_type == 'QPSK':\n",
    "        return (1 - 2*bits[0::2] + 1j*(1 - 2*bits[1::2])) / np.sqrt(2)\n",
    "    raise NotImplementedError"
   ]
  },
  {
   "cell_type": "markdown",
   "id": "d451ac9e",
   "metadata": {},
   "source": [
    "## 3. OFDM Symbol Creation"
   ]
  },
  {
   "cell_type": "code",
   "execution_count": 3,
   "id": "1c15e750",
   "metadata": {},
   "outputs": [
    {
     "ename": "ValueError",
     "evalue": "could not broadcast input array from shape (64,) into shape (63,)",
     "output_type": "error",
     "traceback": [
      "\u001b[31m---------------------------------------------------------------------------\u001b[39m",
      "\u001b[31mValueError\u001b[39m                                Traceback (most recent call last)",
      "\u001b[36mCell\u001b[39m\u001b[36m \u001b[39m\u001b[32mIn[3]\u001b[39m\u001b[32m, line 5\u001b[39m\n\u001b[32m      2\u001b[39m symbols = qam_modulate(bits, mod_type)\n\u001b[32m      4\u001b[39m ofdm_grid = np.zeros(num_subcarriers, dtype=\u001b[38;5;28mcomplex\u001b[39m)\n\u001b[32m----> \u001b[39m\u001b[32m5\u001b[39m \u001b[43mofdm_grid\u001b[49m\u001b[43m[\u001b[49m\u001b[32;43m1\u001b[39;49m\u001b[43m:\u001b[49m\u001b[38;5;28;43mlen\u001b[39;49m\u001b[43m(\u001b[49m\u001b[43msymbols\u001b[49m\u001b[43m)\u001b[49m\u001b[43m+\u001b[49m\u001b[32;43m1\u001b[39;49m\u001b[43m]\u001b[49m = symbols\n\u001b[32m      7\u001b[39m ofdm_time = ifft(ofdm_grid)\n\u001b[32m      8\u001b[39m cp = ofdm_time[-cp_length:]\n",
      "\u001b[31mValueError\u001b[39m: could not broadcast input array from shape (64,) into shape (63,)"
     ]
    }
   ],
   "source": [
    "bits = generate_bits(mod_type, num_subcarriers * 2)\n",
    "symbols = qam_modulate(bits, mod_type)\n",
    "\n",
    "ofdm_grid = np.zeros(num_subcarriers, dtype=complex)\n",
    "ofdm_grid[1:len(symbols)+1] = symbols\n",
    "\n",
    "ofdm_time = ifft(ofdm_grid)\n",
    "cp = ofdm_time[-cp_length:]\n",
    "ofdm_tx = np.concatenate([cp, ofdm_time])"
   ]
  },
  {
   "cell_type": "markdown",
   "id": "f0c3de01",
   "metadata": {},
   "source": [
    "## 4. Plot Time-Domain Signal"
   ]
  },
  {
   "cell_type": "code",
   "execution_count": null,
   "id": "44d9bf70",
   "metadata": {},
   "outputs": [],
   "source": [
    "plt.figure(figsize=(10,4))\n",
    "plt.plot(np.real(ofdm_tx))\n",
    "plt.title('OFDM Time-Domain Signal')\n",
    "plt.xlabel('Sample Index')\n",
    "plt.ylabel('Amplitude')\n",
    "plt.grid(True)\n",
    "plt.show()"
   ]
  }
 ],
 "metadata": {
  "kernelspec": {
   "display_name": "Python 3",
   "language": "python",
   "name": "python3"
  },
  "language_info": {
   "codemirror_mode": {
    "name": "ipython",
    "version": 3
   },
   "file_extension": ".py",
   "mimetype": "text/x-python",
   "name": "python",
   "nbconvert_exporter": "python",
   "pygments_lexer": "ipython3",
   "version": "3.13.3"
  }
 },
 "nbformat": 4,
 "nbformat_minor": 5
}
