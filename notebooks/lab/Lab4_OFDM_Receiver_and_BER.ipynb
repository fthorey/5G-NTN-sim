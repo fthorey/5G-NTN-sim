{
 "cells": [
  {
   "cell_type": "markdown",
   "id": "e93abe05",
   "metadata": {},
   "source": [
    "# Lab 4: OFDM Receiver and BER"
   ]
  },
  {
   "cell_type": "markdown",
   "id": "8eb3e66e",
   "metadata": {},
   "source": [
    "## Introduction"
   ]
  },
  {
   "cell_type": "markdown",
   "id": "19e679a5",
   "metadata": {},
   "source": [
    "In this lab, you’ll implement the receiver:\n",
    "\n",
    "- Remove cyclic prefix\n",
    "- FFT to recover frequency domain\n",
    "- Demodulate and compare to original bits"
   ]
  },
  {
   "cell_type": "markdown",
   "id": "439f745f",
   "metadata": {},
   "source": [
    "## 1. Receiver Processing"
   ]
  },
  {
   "cell_type": "code",
   "execution_count": null,
   "id": "ca1380f1",
   "metadata": {},
   "outputs": [],
   "source": [
    "rx_wo_cp = rx_signal[cp_length:cp_length+num_subcarriers]\n",
    "rx_fft = np.fft.fft(rx_wo_cp)\n",
    "received_symbols = rx_fft[1:len(symbols)+1]"
   ]
  },
  {
   "cell_type": "markdown",
   "id": "72b10553",
   "metadata": {},
   "source": [
    "## 2. Demodulation & BER"
   ]
  },
  {
   "cell_type": "code",
   "execution_count": null,
   "id": "13f4b404",
   "metadata": {},
   "outputs": [],
   "source": [
    "def qpsk_demod(symbols):\n",
    "    bits = np.zeros(2*len(symbols), dtype=int)\n",
    "    bits[0::2] = np.real(symbols) < 0\n",
    "    bits[1::2] = np.imag(symbols) < 0\n",
    "    return bits\n",
    "\n",
    "rx_bits = qpsk_demod(received_symbols)\n",
    "ber = np.mean(bits != rx_bits)\n",
    "print(f'Bit Error Rate: {ber:.4f}')"
   ]
  }
 ],
 "metadata": {},
 "nbformat": 4,
 "nbformat_minor": 5
}
