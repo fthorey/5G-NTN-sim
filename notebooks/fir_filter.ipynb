{
 "cells": [
  {
   "cell_type": "markdown",
   "metadata": {},
   "source": [
    "# FIR filter"
   ]
  },
  {
   "cell_type": "markdown",
   "metadata": {},
   "source": [
    "\n",
    "\n",
    "This cookbook example shows how to design and use a low-pass FIR filter using functions from scipy.signal.\n",
    "\n",
    "The pylab module from matplotlib is used to create plots.\n"
   ]
  },
  {
   "cell_type": "code",
   "execution_count": 16,
   "metadata": {},
   "outputs": [],
   "source": [
    "import numpy as np\n",
    "import scipy as sci\n",
    "\n",
    "sample_rate = 100.0 # Hz\n",
    "nsamples = 400\n",
    "t = np.arange(nsamples) / sample_rate # 4s\n",
    "x = np.cos(2*np.pi*0.5*t) + 0.2*np.sin(2*np.pi*2.5*t+0.1) + \\\n",
    "        0.2*np.sin(2*np.pi*15.3*t) + 0.1*np.sin(2*np.pi*16.7*t + 0.1) + \\\n",
    "            0.1*np.sin(2*np.pi*23.45*t+.8)"
   ]
  },
  {
   "cell_type": "markdown",
   "metadata": {},
   "source": [
    "Create a FIR filter and apply it to x."
   ]
  },
  {
   "cell_type": "code",
   "execution_count": 18,
   "metadata": {},
   "outputs": [],
   "source": [
    "# Nyquist rate\n",
    "nyq_rate = sample_rate / 2.0\n",
    "\n",
    "# Desired width of the transition from pass to stop, relative to the Nyquist rate.\n",
    "# We'll design the filter with a transition width of 10% of Nyquist rate\n",
    "width = 10.0 / 1e2\n",
    "\n",
    "width_Hz = width * nyq_rate\n",
    "\n",
    "# Desired attenuation in the stop band, in dB\n",
    "stopband_attenuation_db = 60.0\n",
    "stopband_attenuation_lin = 10**(stopband_attenuation_db / 20.0)\n",
    "\n",
    "# Compute the order and Kaiser parameter for the FIR filter\n",
    "N, beta = sci.signal.kaiserord(stopband_attenuation_db, width)"
   ]
  }
 ],
 "metadata": {
  "kernelspec": {
   "display_name": "Python 3",
   "language": "python",
   "name": "python3"
  },
  "language_info": {
   "codemirror_mode": {
    "name": "ipython",
    "version": 3
   },
   "file_extension": ".py",
   "mimetype": "text/x-python",
   "name": "python",
   "nbconvert_exporter": "python",
   "pygments_lexer": "ipython3",
   "version": "3.13.3"
  }
 },
 "nbformat": 4,
 "nbformat_minor": 2
}
