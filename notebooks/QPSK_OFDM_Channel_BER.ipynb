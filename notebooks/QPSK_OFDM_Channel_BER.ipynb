{
 "cells": [
  {
   "cell_type": "markdown",
   "id": "7c6d8899",
   "metadata": {},
   "source": [
    "# 📡 QPSK: Single-Carrier vs OFDM (1 Subcarrier) + Channel Effects & BER Simulation"
   ]
  },
  {
   "cell_type": "markdown",
   "id": "a3fd5a48",
   "metadata": {},
   "source": [
    "\n",
    "This notebook compares:\n",
    "- **Single-carrier QPSK with pulse shaping**\n",
    "- **OFDM with one subcarrier**\n",
    "\n",
    "and adds:\n",
    "- **AWGN channel**\n",
    "- **Bit Error Rate (BER) analysis**\n",
    "- **Visualizations of constellation before and after the channel**\n",
    "\n",
    "Each scheme is explored step-by-step.\n"
   ]
  },
  {
   "cell_type": "markdown",
   "id": "3231acf6",
   "metadata": {},
   "source": [
    "## 🔹 Setup & Symbol Generation"
   ]
  },
  {
   "cell_type": "code",
   "execution_count": 5,
   "id": "e016299b",
   "metadata": {},
   "outputs": [],
   "source": [
    "\n",
    "import numpy as np\n",
    "import matplotlib.pyplot as plt\n",
    "from scipy.signal import convolve\n",
    "from scipy.fft import ifft, fft\n",
    "from numpy.random import default_rng\n",
    "\n",
    "rng = default_rng(42)\n",
    "\n",
    "# Parameters\n",
    "num_symbols = 1000\n",
    "samples_per_symbol = 8\n",
    "fs = 1e4\n",
    "fc = 2e3\n",
    "rolloff = 0.35\n",
    "span = 6\n",
    "fft_size = 64\n",
    "cp_length = 16\n",
    "snr_db = 10\n",
    "\n",
    "# Generate random QPSK symbols\n",
    "bits = rng.integers(0, 2, 2 * num_symbols)\n",
    "symbols = (2 * bits[::2] - 1) + 1j * (2 * bits[1::2] - 1)\n",
    "symbols /= np.sqrt(2)\n"
   ]
  },
  {
   "cell_type": "markdown",
   "id": "8be3eaf3",
   "metadata": {},
   "source": [
    "## 🔸 Single-Carrier QPSK Modulation"
   ]
  },
  {
   "cell_type": "code",
   "execution_count": 6,
   "id": "ac99d676",
   "metadata": {},
   "outputs": [],
   "source": [
    "\n",
    "def rrc_filter(beta, sps, span):\n",
    "    N = span * sps\n",
    "    t = np.arange(-N / 2, N / 2 + 1) / sps\n",
    "    h = np.sinc(t) * np.cos(np.pi * beta * t) / (1 - (2 * beta * t)**2)\n",
    "    h[t == 0.5 / beta] = np.pi / 4 * np.sinc(1 / (2 * beta))\n",
    "    h[t == -0.5 / beta] = np.pi / 4 * np.sinc(1 / (2 * beta))\n",
    "    return h / np.sqrt(np.sum(h**2))\n",
    "\n",
    "pulse = rrc_filter(rolloff, samples_per_symbol, span)\n",
    "i_upsampled = np.zeros(num_symbols * samples_per_symbol)\n",
    "q_upsampled = np.zeros_like(i_upsampled)\n",
    "i_upsampled[::samples_per_symbol] = np.real(symbols)\n",
    "q_upsampled[::samples_per_symbol] = np.imag(symbols)\n",
    "\n",
    "i_shaped = convolve(i_upsampled, pulse, mode='same')\n",
    "q_shaped = convolve(q_upsampled, pulse, mode='same')\n",
    "baseband = i_shaped + 1j * q_shaped\n",
    "t_total = np.arange(len(baseband)) / fs\n",
    "carrier = np.exp(1j * 2 * np.pi * fc * t_total)\n",
    "rf_sc = np.real(baseband * carrier)\n"
   ]
  },
  {
   "cell_type": "markdown",
   "id": "291e1df7",
   "metadata": {},
   "source": [
    "## 🔸 OFDM Modulation (Single Subcarrier)"
   ]
  },
  {
   "cell_type": "code",
   "execution_count": 7,
   "id": "867d9b28",
   "metadata": {},
   "outputs": [],
   "source": [
    "\n",
    "ofdm_symbols = symbols[:int(len(symbols))]\n",
    "ofdm_grid = np.zeros((len(ofdm_symbols), fft_size), dtype=complex)\n",
    "ofdm_grid[:, 1] = ofdm_symbols\n",
    "\n",
    "ofdm_time = ifft(ofdm_grid, axis=1)\n",
    "ofdm_with_cp = np.hstack([ofdm_time[:, -cp_length:], ofdm_time])\n",
    "ofdm_serial = ofdm_with_cp.ravel()\n",
    "\n",
    "t_ofdm = np.arange(len(ofdm_serial)) / fs\n",
    "carrier_ofdm = np.exp(1j * 2 * np.pi * fc * t_ofdm)\n",
    "rf_ofdm = np.real(ofdm_serial * carrier_ofdm)\n"
   ]
  },
  {
   "cell_type": "markdown",
   "id": "acde06c4",
   "metadata": {},
   "source": [
    "## 🌩 Channel + BER Simulation"
   ]
  },
  {
   "cell_type": "code",
   "execution_count": 8,
   "id": "7cc44756",
   "metadata": {},
   "outputs": [
    {
     "ename": "SyntaxError",
     "evalue": "invalid decimal literal (1763394371.py, line 22)",
     "output_type": "error",
     "traceback": [
      "  \u001b[36mCell\u001b[39m\u001b[36m \u001b[39m\u001b[32mIn[8]\u001b[39m\u001b[32m, line 22\u001b[39m\n\u001b[31m    \u001b[39m\u001b[31mBER = {ber:.4f}\")\u001b[39m\n                ^\n\u001b[31mSyntaxError\u001b[39m\u001b[31m:\u001b[39m invalid decimal literal\n"
     ]
    }
   ],
   "source": [
    "\n",
    "def awgn(signal, snr_db):\n",
    "    snr = 10**(snr_db / 10)\n",
    "    power = np.mean(np.abs(signal)**2)\n",
    "    noise_power = power / snr\n",
    "    noise = np.sqrt(noise_power / 2) * (rng.standard_normal(signal.shape) + 1j * rng.standard_normal(signal.shape))\n",
    "    return signal + noise\n",
    "\n",
    "# Transmit through AWGN\n",
    "rx_ofdm = awgn(ofdm_serial, snr_db)\n",
    "rx_time = rx_ofdm * np.exp(-1j * 2 * np.pi * fc * t_ofdm)  # Downconvert\n",
    "rx_blocks = rx_time.reshape((-1, fft_size + cp_length))[:, cp_length:]\n",
    "rx_freq = fft(rx_blocks, axis=1)\n",
    "rx_symbols = rx_freq[:, 1]\n",
    "\n",
    "rx_bits = np.empty(2 * len(rx_symbols), dtype=int)\n",
    "rx_bits[0::2] = np.real(rx_symbols) > 0\n",
    "rx_bits[1::2] = np.imag(rx_symbols) > 0\n",
    "ber = np.mean(rx_bits != bits[:len(rx_bits)])\n",
    "\n",
    "plt.scatter(np.real(rx_symbols), np.imag(rx_symbols), alpha=0.5)\n",
    "plt.title(f\"OFDM Constellation (SNR={snr_db} dB\")\n",
    "BER = {ber:.4f}\")\n",
    "plt.grid(True)\n",
    "plt.axis(\"equal\")\n",
    "plt.show()\n"
   ]
  }
 ],
 "metadata": {
  "kernelspec": {
   "display_name": "Python 3",
   "language": "python",
   "name": "python3"
  },
  "language_info": {
   "codemirror_mode": {
    "name": "ipython",
    "version": 3
   },
   "file_extension": ".py",
   "mimetype": "text/x-python",
   "name": "python",
   "nbconvert_exporter": "python",
   "pygments_lexer": "ipython3",
   "version": "3.13.3"
  }
 },
 "nbformat": 4,
 "nbformat_minor": 5
}
